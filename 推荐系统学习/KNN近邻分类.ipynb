{
 "cells": [
  {
   "cell_type": "markdown",
   "metadata": {},
   "source": [
    "# KNN近邻分类"
   ]
  },
  {
   "cell_type": "markdown",
   "metadata": {},
   "source": [
    "### 0.引入库"
   ]
  },
  {
   "cell_type": "code",
   "execution_count": 7,
   "metadata": {},
   "outputs": [],
   "source": [
    "import numpy as np\n",
    "import pandas as pd\n",
    "\n",
    "#引入sklearn里的数据集，iris 鸢尾花\n",
    "from sklearn.datasets import load_iris\n",
    "\n",
    "#切分数据集为训练集和测试集的方法\n",
    "from sklearn.model_selection import train_test_split\n",
    "\n",
    "#评估函数\n",
    "from sklearn.metrics import accuracy_score"
   ]
  },
  {
   "cell_type": "markdown",
   "metadata": {},
   "source": [
    "### 1.数据预处理"
   ]
  },
  {
   "cell_type": "code",
   "execution_count": 8,
   "metadata": {},
   "outputs": [
    {
     "data": {
      "text/html": [
       "<div>\n",
       "<style scoped>\n",
       "    .dataframe tbody tr th:only-of-type {\n",
       "        vertical-align: middle;\n",
       "    }\n",
       "\n",
       "    .dataframe tbody tr th {\n",
       "        vertical-align: top;\n",
       "    }\n",
       "\n",
       "    .dataframe thead th {\n",
       "        text-align: right;\n",
       "    }\n",
       "</style>\n",
       "<table border=\"1\" class=\"dataframe\">\n",
       "  <thead>\n",
       "    <tr style=\"text-align: right;\">\n",
       "      <th></th>\n",
       "      <th>sepal length (cm)</th>\n",
       "      <th>sepal width (cm)</th>\n",
       "      <th>petal length (cm)</th>\n",
       "      <th>petal width (cm)</th>\n",
       "    </tr>\n",
       "  </thead>\n",
       "  <tbody>\n",
       "    <tr>\n",
       "      <th>count</th>\n",
       "      <td>150.000000</td>\n",
       "      <td>150.000000</td>\n",
       "      <td>150.000000</td>\n",
       "      <td>150.000000</td>\n",
       "    </tr>\n",
       "    <tr>\n",
       "      <th>mean</th>\n",
       "      <td>5.843333</td>\n",
       "      <td>3.054000</td>\n",
       "      <td>3.758667</td>\n",
       "      <td>1.198667</td>\n",
       "    </tr>\n",
       "    <tr>\n",
       "      <th>std</th>\n",
       "      <td>0.828066</td>\n",
       "      <td>0.433594</td>\n",
       "      <td>1.764420</td>\n",
       "      <td>0.763161</td>\n",
       "    </tr>\n",
       "    <tr>\n",
       "      <th>min</th>\n",
       "      <td>4.300000</td>\n",
       "      <td>2.000000</td>\n",
       "      <td>1.000000</td>\n",
       "      <td>0.100000</td>\n",
       "    </tr>\n",
       "    <tr>\n",
       "      <th>25%</th>\n",
       "      <td>5.100000</td>\n",
       "      <td>2.800000</td>\n",
       "      <td>1.600000</td>\n",
       "      <td>0.300000</td>\n",
       "    </tr>\n",
       "    <tr>\n",
       "      <th>50%</th>\n",
       "      <td>5.800000</td>\n",
       "      <td>3.000000</td>\n",
       "      <td>4.350000</td>\n",
       "      <td>1.300000</td>\n",
       "    </tr>\n",
       "    <tr>\n",
       "      <th>75%</th>\n",
       "      <td>6.400000</td>\n",
       "      <td>3.300000</td>\n",
       "      <td>5.100000</td>\n",
       "      <td>1.800000</td>\n",
       "    </tr>\n",
       "    <tr>\n",
       "      <th>max</th>\n",
       "      <td>7.900000</td>\n",
       "      <td>4.400000</td>\n",
       "      <td>6.900000</td>\n",
       "      <td>2.500000</td>\n",
       "    </tr>\n",
       "  </tbody>\n",
       "</table>\n",
       "</div>"
      ],
      "text/plain": [
       "       sepal length (cm)  sepal width (cm)  petal length (cm)  \\\n",
       "count         150.000000        150.000000         150.000000   \n",
       "mean            5.843333          3.054000           3.758667   \n",
       "std             0.828066          0.433594           1.764420   \n",
       "min             4.300000          2.000000           1.000000   \n",
       "25%             5.100000          2.800000           1.600000   \n",
       "50%             5.800000          3.000000           4.350000   \n",
       "75%             6.400000          3.300000           5.100000   \n",
       "max             7.900000          4.400000           6.900000   \n",
       "\n",
       "       petal width (cm)  \n",
       "count        150.000000  \n",
       "mean           1.198667  \n",
       "std            0.763161  \n",
       "min            0.100000  \n",
       "25%            0.300000  \n",
       "50%            1.300000  \n",
       "75%            1.800000  \n",
       "max            2.500000  "
      ]
     },
     "execution_count": 8,
     "metadata": {},
     "output_type": "execute_result"
    }
   ],
   "source": [
    "iris = load_iris()\n",
    "\n",
    "df = pd.DataFrame(data = iris.data, columns = iris.feature_names)\n",
    "df['class'] = iris.target\n",
    "df['class'] = df['class'].map({i: iris.target_names[i] for i in range(3)})\n",
    "df.describe()"
   ]
  },
  {
   "cell_type": "code",
   "execution_count": 9,
   "metadata": {},
   "outputs": [
    {
     "name": "stdout",
     "output_type": "stream",
     "text": [
      "(150, 4) (150, 1)\n"
     ]
    }
   ],
   "source": [
    "x = iris.data\n",
    "y = iris.target.reshape(-1, 1)\n",
    "print(x.shape, y.shape)"
   ]
  },
  {
   "cell_type": "markdown",
   "metadata": {},
   "source": [
    "### 2.划分训练集和测试集"
   ]
  },
  {
   "cell_type": "code",
   "execution_count": 10,
   "metadata": {},
   "outputs": [
    {
     "name": "stdout",
     "output_type": "stream",
     "text": [
      "(105, 4) (105, 1)\n"
     ]
    },
    {
     "data": {
      "text/plain": [
       "array([6.8, 2.2, 2.1, 1.5, 1.3, 3.5, 2. , 4.3, 4.1, 3.6, 3. , 3.6, 1.3,\n",
       "       0.5, 2.6, 6.6, 6.8, 2.4, 2. , 1. , 6.8, 2.4, 2.9, 2. , 2.2, 6.3,\n",
       "       2. , 0.5, 6.3, 7.3, 2.2, 7. , 2.5, 2.6, 1.7, 1.7, 7. , 7.7, 7.5,\n",
       "       1.9, 7.1, 2.5, 1.6, 2.1, 6.7, 1.8, 2.4, 2.3, 7. , 2.9, 7. , 2. ,\n",
       "       7.2, 1.1, 6.9, 6.7, 2.1, 7.5, 1.8, 6.4, 2.1, 3.7, 1.9, 1.2, 2.6,\n",
       "       2.2, 7.3, 0.5, 5.2, 4.2, 6.8, 2.3, 2.9, 2.2, 7.2, 2.1, 2. , 1.7,\n",
       "       8. , 1.8, 2.4, 6.6, 6.6, 2.4, 1.8, 0.7, 4.9, 2. , 2.4, 1.8, 6.8,\n",
       "       2.9, 7.3, 1.2, 6.9, 2.1, 7.1, 6.7, 2.6, 6.8, 6.8, 7.1, 1.2, 6.5,\n",
       "       1.9])"
      ]
     },
     "execution_count": 10,
     "metadata": {},
     "output_type": "execute_result"
    }
   ],
   "source": [
    "#参数设置：test_size是test集占比，random_state随机种子，stratify分层依据，即类别分割比例的标准\n",
    "x_train, x_test, y_train, y_test = train_test_split(x, y, test_size = 0.3, random_state = 30, stratify = y)\n",
    "\n",
    "print(x_train.shape, y_train.shape)\n",
    "\n",
    "np.sum(np.abs(x_train - x_test[0]), axis = 1)"
   ]
  },
  {
   "cell_type": "markdown",
   "metadata": {},
   "source": [
    "### 3.核心算法"
   ]
  },
  {
   "cell_type": "code",
   "execution_count": 11,
   "metadata": {},
   "outputs": [],
   "source": [
    "#距离函数定义\n",
    "def l1_distance(a, b):\n",
    "    return np.sum( np.abs( a - b ), axis = 1) #结果保存为一列的和\n",
    "\n",
    "def l2_distance(a, b):\n",
    "    return np.sqrt( np.sum( (a - b) ** 2 , axis = 1))"
   ]
  },
  {
   "cell_type": "code",
   "execution_count": 12,
   "metadata": {},
   "outputs": [],
   "source": [
    "#分类器实现\n",
    "class kNN(object):\n",
    "    #定义一个初始化方法，__init__是类的构造方法\n",
    "    def __init__(self, n_neighbors = 1, dist_func = l1_distance):\n",
    "        self.n_neighbors = n_neighbors\n",
    "        self.dist_func = dist_func\n",
    "    \n",
    "    #训练模型方法\n",
    "    def fit(self, x, y):\n",
    "        self.x_train = x\n",
    "        self.y_train = y\n",
    "        \n",
    "    #模型预测方法\n",
    "    def predict(self, x):\n",
    "        #初始化预测分类数组\n",
    "        y_prediction = np.zeros( (x.shape[0], 1), dtype = self.y_train.dtype )\n",
    "        \n",
    "        #遍历数据集\n",
    "        for i, x_test in enumerate(x):\n",
    "            #计算x_test与所有训练数据的距离\n",
    "            distances = self.dist_func(self.x_train, x_test)\n",
    "            \n",
    "            #得到的距离从小到大排序,取出索引\n",
    "            n_index = np.argsort(distances)\n",
    "            \n",
    "            #选取最近的k个点，保存分类类别，ravel()把二维数组展开成一维\n",
    "            classification = self.y_train[n_index[:self.n_neighbors]].reshape(-1)\n",
    "            \n",
    "            #统计出现频率最高的类别，赋值给y_prediction[i]\n",
    "            y_prediction[i] = np.argmax( np.bincount( classification ) )\n",
    "        \n",
    "        return y_prediction"
   ]
  },
  {
   "cell_type": "markdown",
   "metadata": {},
   "source": [
    "### 4.测试"
   ]
  },
  {
   "cell_type": "code",
   "execution_count": 13,
   "metadata": {},
   "outputs": [
    {
     "data": {
      "text/html": [
       "<div>\n",
       "<style scoped>\n",
       "    .dataframe tbody tr th:only-of-type {\n",
       "        vertical-align: middle;\n",
       "    }\n",
       "\n",
       "    .dataframe tbody tr th {\n",
       "        vertical-align: top;\n",
       "    }\n",
       "\n",
       "    .dataframe thead th {\n",
       "        text-align: right;\n",
       "    }\n",
       "</style>\n",
       "<table border=\"1\" class=\"dataframe\">\n",
       "  <thead>\n",
       "    <tr style=\"text-align: right;\">\n",
       "      <th></th>\n",
       "      <th>k</th>\n",
       "      <th>距离函数</th>\n",
       "      <th>预测准确率</th>\n",
       "    </tr>\n",
       "  </thead>\n",
       "  <tbody>\n",
       "    <tr>\n",
       "      <th>0</th>\n",
       "      <td>1</td>\n",
       "      <td>l1_distance</td>\n",
       "      <td>0.933333</td>\n",
       "    </tr>\n",
       "    <tr>\n",
       "      <th>1</th>\n",
       "      <td>3</td>\n",
       "      <td>l1_distance</td>\n",
       "      <td>0.933333</td>\n",
       "    </tr>\n",
       "    <tr>\n",
       "      <th>2</th>\n",
       "      <td>5</td>\n",
       "      <td>l1_distance</td>\n",
       "      <td>0.911111</td>\n",
       "    </tr>\n",
       "    <tr>\n",
       "      <th>3</th>\n",
       "      <td>7</td>\n",
       "      <td>l1_distance</td>\n",
       "      <td>0.911111</td>\n",
       "    </tr>\n",
       "    <tr>\n",
       "      <th>4</th>\n",
       "      <td>9</td>\n",
       "      <td>l1_distance</td>\n",
       "      <td>0.933333</td>\n",
       "    </tr>\n",
       "    <tr>\n",
       "      <th>5</th>\n",
       "      <td>1</td>\n",
       "      <td>l2_distance</td>\n",
       "      <td>0.933333</td>\n",
       "    </tr>\n",
       "    <tr>\n",
       "      <th>6</th>\n",
       "      <td>3</td>\n",
       "      <td>l2_distance</td>\n",
       "      <td>0.933333</td>\n",
       "    </tr>\n",
       "    <tr>\n",
       "      <th>7</th>\n",
       "      <td>5</td>\n",
       "      <td>l2_distance</td>\n",
       "      <td>0.933333</td>\n",
       "    </tr>\n",
       "    <tr>\n",
       "      <th>8</th>\n",
       "      <td>7</td>\n",
       "      <td>l2_distance</td>\n",
       "      <td>0.933333</td>\n",
       "    </tr>\n",
       "    <tr>\n",
       "      <th>9</th>\n",
       "      <td>9</td>\n",
       "      <td>l2_distance</td>\n",
       "      <td>0.933333</td>\n",
       "    </tr>\n",
       "  </tbody>\n",
       "</table>\n",
       "</div>"
      ],
      "text/plain": [
       "   k         距离函数     预测准确率\n",
       "0  1  l1_distance  0.933333\n",
       "1  3  l1_distance  0.933333\n",
       "2  5  l1_distance  0.911111\n",
       "3  7  l1_distance  0.911111\n",
       "4  9  l1_distance  0.933333\n",
       "5  1  l2_distance  0.933333\n",
       "6  3  l2_distance  0.933333\n",
       "7  5  l2_distance  0.933333\n",
       "8  7  l2_distance  0.933333\n",
       "9  9  l2_distance  0.933333"
      ]
     },
     "execution_count": 13,
     "metadata": {},
     "output_type": "execute_result"
    }
   ],
   "source": [
    "#定义实例\n",
    "knn = kNN()\n",
    "\n",
    "#训练\n",
    "knn.fit(x_train, y_train)\n",
    "\n",
    "#保存结果list\n",
    "result_list = []\n",
    "\n",
    "#针对不同的参数选取，做预测\n",
    "for p in [1, 2]:\n",
    "    knn.dist_func = l1_distance if p == 1 else l2_distance\n",
    "\n",
    "    for k in range(1, 10, 2):\n",
    "        knn.n_neighbors = k\n",
    "        \n",
    "        #传入测试数据做预测\n",
    "        prediction = knn.predict(x_test)\n",
    "\n",
    "        #评估\n",
    "        accuracy = accuracy_score(y_test, prediction)\n",
    "        \n",
    "        result_list.append([k, 'l1_distance' if p == 1 else 'l2_distance', accuracy])\n",
    "\n",
    "df = pd.DataFrame(result_list, columns = ['k', '距离函数', '预测准确率'])\n",
    "df"
   ]
  },
  {
   "cell_type": "code",
   "execution_count": null,
   "metadata": {},
   "outputs": [],
   "source": []
  }
 ],
 "metadata": {
  "kernelspec": {
   "display_name": "Python 3",
   "language": "python",
   "name": "python3"
  },
  "language_info": {
   "codemirror_mode": {
    "name": "ipython",
    "version": 3
   },
   "file_extension": ".py",
   "mimetype": "text/x-python",
   "name": "python",
   "nbconvert_exporter": "python",
   "pygments_lexer": "ipython3",
   "version": "3.7.0"
  }
 },
 "nbformat": 4,
 "nbformat_minor": 2
}
