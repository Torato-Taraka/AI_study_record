{
 "cells": [
  {
   "cell_type": "markdown",
   "metadata": {},
   "source": [
    "# LFM梯度下降"
   ]
  },
  {
   "cell_type": "markdown",
   "metadata": {},
   "source": [
    "### 0.引入依赖\n"
   ]
  },
  {
   "cell_type": "code",
   "execution_count": 2,
   "metadata": {},
   "outputs": [],
   "source": [
    "import numpy as np\n",
    "import pandas as pd"
   ]
  },
  {
   "cell_type": "markdown",
   "metadata": {},
   "source": [
    "### 1.数据预处理"
   ]
  },
  {
   "cell_type": "code",
   "execution_count": 5,
   "metadata": {},
   "outputs": [],
   "source": [
    "#评分矩阵R\n",
    "R = np.array([[4, 0, 2, 0, 1], \n",
    "             [ 0, 2, 3, 0, 0],\n",
    "             [ 1, 0, 2, 4, 0],\n",
    "             [ 5, 0, 0, 3, 1],\n",
    "             [ 0, 0, 1, 5, 1],\n",
    "             [ 0, 3, 2, 4, 1],])"
   ]
  },
  {
   "cell_type": "markdown",
   "metadata": {},
   "source": [
    "### 2.算法实现"
   ]
  },
  {
   "cell_type": "code",
   "execution_count": 16,
   "metadata": {},
   "outputs": [],
   "source": [
    "\"\"\"\n",
    "输入参数：\n",
    "R：M*N 的评分矩阵\n",
    "K：隐特征向量维度\n",
    "max_iter：最大迭代次数\n",
    "alpha：步长\n",
    "lamda：正则化系数\n",
    "\n",
    "输出：\n",
    "分解后的P、Q\n",
    "P：初始化用户特征矩阵M*K\n",
    "Q：初始化物品特征矩阵N*K\n",
    "\"\"\"\n",
    "\n",
    "#给定超参数\n",
    "\n",
    "K = 2\n",
    "max_iter = 5000\n",
    "alpha = 0.0005\n",
    "lamda = 0.004\n",
    "\n",
    "#核心算法\n",
    "def LFM_grad_desc( R, K, max_iter = 1000, alpha = 0.0001, lamda = 0.004 ):\n",
    "    #基本维度参数定义\n",
    "    M = len(R)\n",
    "    N = len(R[0])\n",
    "    \n",
    "    #P，Q初始值,随机生成\n",
    "    P = np.random.rand(M, K)\n",
    "    Q = np.random.rand(N, K)\n",
    "    Q = Q.T\n",
    "    \n",
    "    #开始迭代\n",
    "    for step in range(max_iter):\n",
    "        #遍历用户u，物品i，对应的特征向量Pu、Qi梯度下降\n",
    "        for u in range(M):\n",
    "            for i in range(N):\n",
    "                #有评分才计算误差\n",
    "                if R[u, i] > 0:\n",
    "                    ui = np.dot( P[u , : ], Q[ : , i] ) - R[u, i]\n",
    "                    \n",
    "                    #梯度下降，更新Pu，Qi\n",
    "                    for k in range(K):\n",
    "                        P[u, k] = P[u, k] - alpha * ( 2 * ui * Q[k, i] + 2 * lamda * P[u, k] )\n",
    "                        Q[k, i] = Q[k, i] - alpha * ( 2 * ui * P[u, k] + 2 * lamda * Q[k, i] )\n",
    "        \n",
    "        #u、i遍历完成，所有特征向量更新完成，可以得到P、Q，可以计算预测评分矩阵\n",
    "        pred_R = np.dot( P , Q )\n",
    "        \n",
    "        #计算当前损失函数\n",
    "        cost = 0\n",
    "        for  u in range(M):\n",
    "            for i in range(N):\n",
    "                if R[u, i] > 0:\n",
    "                    cost += (pred_R[u, i] - R[u, i]) ** 2\n",
    "                    #加上正则化项\n",
    "                    for k in range(K):\n",
    "                        cost += lamda * ( P[u, k] ** 2 + Q[k, i] ** 2 )\n",
    "                        \n",
    "        if cost < 0.0001:\n",
    "            break\n",
    "        \n",
    "    return P, Q.T, cost"
   ]
  },
  {
   "cell_type": "markdown",
   "metadata": {},
   "source": [
    "### 3.测试"
   ]
  },
  {
   "cell_type": "code",
   "execution_count": 18,
   "metadata": {},
   "outputs": [
    {
     "name": "stdout",
     "output_type": "stream",
     "text": [
      "[[ 1.18032406  1.80108974]\n",
      " [ 1.87169436  0.04069066]\n",
      " [ 1.34454949  0.64866209]\n",
      " [-0.32530181  1.99587288]\n",
      " [ 0.59855195  2.0413426 ]\n",
      " [ 1.15788657  0.98785643]]\n",
      "[[-0.38124337  2.44540091]\n",
      " [ 1.04208287  1.75710764]\n",
      " [ 1.58201154  0.04878276]\n",
      " [ 2.00337612  1.83629104]\n",
      " [ 0.23985352  0.47729201]]\n",
      "0.7340236057597367\n",
      "[[4 0 2 0 1]\n",
      " [0 2 3 0 0]\n",
      " [1 0 2 4 0]\n",
      " [5 0 0 3 1]\n",
      " [0 0 1 5 1]\n",
      " [0 3 2 4 1]]\n"
     ]
    },
    {
     "data": {
      "text/plain": [
       "array([[ 3.95439577,  4.39470405,  1.95514841,  5.671958  ,  1.14275061],\n",
       "       [-0.61406608,  2.02195851,  2.96302708,  3.82442768,  0.4683538 ],\n",
       "       [ 1.0736383 ,  2.54090112,  2.15873634,  3.88477074,  0.63209616],\n",
       "       [ 5.00472851,  3.16797206, -0.41726703,  3.01330162,  0.87458939],\n",
       "       [ 4.7637071 ,  4.21059943,  1.0464984 ,  4.94762381,  1.1178813 ],\n",
       "       [ 1.97426843,  2.94238384,  1.87998028,  4.13367421,  0.74921914]])"
      ]
     },
     "execution_count": 18,
     "metadata": {},
     "output_type": "execute_result"
    }
   ],
   "source": [
    "P, Q, cost = LFM_grad_desc(R, K, max_iter, alpha, lamda)\n",
    "\n",
    "print(P)\n",
    "print(Q)\n",
    "print(cost)\n",
    "print(R)\n",
    "\n",
    "pred_R = np.dot( P, Q.T )\n",
    "pred_R"
   ]
  }
 ],
 "metadata": {
  "kernelspec": {
   "display_name": "Python 3",
   "language": "python",
   "name": "python3"
  },
  "language_info": {
   "codemirror_mode": {
    "name": "ipython",
    "version": 3
   },
   "file_extension": ".py",
   "mimetype": "text/x-python",
   "name": "python",
   "nbconvert_exporter": "python",
   "pygments_lexer": "ipython3",
   "version": "3.7.0"
  }
 },
 "nbformat": 4,
 "nbformat_minor": 2
}
