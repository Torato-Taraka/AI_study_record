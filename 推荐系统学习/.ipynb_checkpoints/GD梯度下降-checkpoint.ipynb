{
 "cells": [
  {
   "cell_type": "markdown",
   "metadata": {},
   "source": [
    "# 梯度下降法"
   ]
  },
  {
   "cell_type": "markdown",
   "metadata": {},
   "source": [
    "### 0.引入"
   ]
  },
  {
   "cell_type": "code",
   "execution_count": 7,
   "metadata": {},
   "outputs": [
    {
     "data": {
      "image/png": "[encoded data removed]",
      "text/plain": [
       "<Figure size 432x288 with 1 Axes>"
      ]
     },
     "metadata": {
      "needs_background": "light"
     },
     "output_type": "display_data"
    }
   ],
   "source": [
    "import numpy as np\n",
    "import matplotlib.pyplot as plt\n",
    "\n",
    "points = np.genfromtxt('E:\\\\python AI\\\\test.txt', delimiter = ',')\n",
    "\n",
    "#print(points)\n",
    "\n",
    "x = points[:, 0]\n",
    "y = points[:, 1]\n",
    "\n",
    "plt.scatter(x, y)\n",
    "plt.show()"
   ]
  },
  {
   "cell_type": "markdown",
   "metadata": {},
   "source": [
    "### 1.损失函数计算"
   ]
  },
  {
   "cell_type": "code",
   "execution_count": 8,
   "metadata": {},
   "outputs": [],
   "source": [
    "def compute_cost(w, b, points):\n",
    "    total_cost = 0\n",
    "    M = len(points)\n",
    "    \n",
    "    for i in range(M):\n",
    "        x = points[i, 0]\n",
    "        y = points[i, 1]\n",
    "        total_cost += (y - w * x - b) ** 2;\n",
    "        \n",
    "    return total_cost/M"
   ]
  },
  {
   "cell_type": "markdown",
   "metadata": {},
   "source": [
    "### 2.参数设置"
   ]
  },
  {
   "cell_type": "code",
   "execution_count": 10,
   "metadata": {},
   "outputs": [],
   "source": [
    "alpha = 0.0001  #学习率\n",
    "initial_w = 0   #w初始值\n",
    "initial_b = 0   #b初始值\n",
    "num_iter = 2000   #迭代次数"
   ]
  },
  {
   "cell_type": "markdown",
   "metadata": {},
   "source": [
    "### 3.梯度下降"
   ]
  },
  {
   "cell_type": "code",
   "execution_count": 12,
   "metadata": {},
   "outputs": [],
   "source": [
    "def grad_dec(points, initial_w, initial_b, num_iter):\n",
    "    w = initial_w\n",
    "    b = initial_b\n",
    "    cost_list = []\n",
    "    \n",
    "    #迭代\n",
    "    for i in range(num_iter):\n",
    "        cost_list.append( compute_cost(w, b, points) )\n",
    "        w, b =  step_grad_dec(w, b, alpha, points)\n",
    "        \n",
    "    return cost_list, w, b\n",
    "\n",
    "def step_grad_dec(current_w, current_b, alpha, points):\n",
    "    sum_grad_w = 0\n",
    "    sum_grad_b = 0\n",
    "    M = len(points)\n",
    "    \n",
    "    for i in range(M):\n",
    "        x = points[i, 0]\n",
    "        y = points[i, 1]\n",
    "        sum_grad_w += (current_w * x + current_b - y) * x;\n",
    "        sum_grad_b += current_w * x + current_b - y\n",
    "    \n",
    "    grad_w = 2/M * sum_grad_w\n",
    "    grad_b = 2/M * sum_grad_b\n",
    "    \n",
    "    updated_w = current_w - alpha * grad_w\n",
    "    updated_b = current_b - alpha * grad_b\n",
    "    \n",
    "    return updated_w, updated_b "
   ]
  },
  {
   "cell_type": "markdown",
   "metadata": {},
   "source": [
    "### 4.测试"
   ]
  },
  {
   "cell_type": "code",
   "execution_count": 13,
   "metadata": {},
   "outputs": [
    {
     "name": "stdout",
     "output_type": "stream",
     "text": [
      "w is  1.2785704116498384\n",
      "b is  4.551092141603902\n",
      "cost is  989.6132300853616\n"
     ]
    },
    {
     "data": {
      "image/png": "[encoded data removed]",
      "text/plain": [
       "<Figure size 432x288 with 1 Axes>"
      ]
     },
     "metadata": {
      "needs_background": "light"
     },
     "output_type": "display_data"
    },
    {
     "data": {
      "image/png": "[encoded data removed]",
      "text/plain": [
       "<Figure size 432x288 with 1 Axes>"
      ]
     },
     "metadata": {
      "needs_background": "light"
     },
     "output_type": "display_data"
    }
   ],
   "source": [
    "cost_list , w, b = grad_dec(points, initial_w, initial_b, num_iter)\n",
    "\n",
    "print(\"w is \", w)\n",
    "print(\"b is \", b)\n",
    "\n",
    "cost = compute_cost (w, b, points)    \n",
    "print(\"cost is \", cost)\n",
    "\n",
    "plt.plot(cost_list)\n",
    "plt.show()\n",
    "\n",
    "plt.scatter(x, y)\n",
    "pred_y = w * x + b\n",
    "\n",
    "plt.plot(x, pred_y, c = \"r\")\n",
    "plt.show()"
   ]
  }
 ],
 "metadata": {
  "kernelspec": {
   "display_name": "Python 3",
   "language": "python",
   "name": "python3"
  },
  "language_info": {
   "codemirror_mode": {
    "name": "ipython",
    "version": 3
   },
   "file_extension": ".py",
   "mimetype": "text/x-python",
   "name": "python",
   "nbconvert_exporter": "python",
   "pygments_lexer": "ipython3",
   "version": "3.7.0"
  }
 },
 "nbformat": 4,
 "nbformat_minor": 2
}
